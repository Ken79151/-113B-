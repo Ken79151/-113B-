{
  "nbformat": 4,
  "nbformat_minor": 0,
  "metadata": {
    "colab": {
      "provenance": [],
      "authorship_tag": "ABX9TyPzPxasJwgUWMgKofEsQq3T",
      "include_colab_link": true
    },
    "kernelspec": {
      "name": "python3",
      "display_name": "Python 3"
    },
    "language_info": {
      "name": "python"
    }
  },
  "cells": [
    {
      "cell_type": "markdown",
      "metadata": {
        "id": "view-in-github",
        "colab_type": "text"
      },
      "source": [
        "<a href=\"https://colab.research.google.com/github/Ken79151/-113B-/blob/main/EX01_05_Caesar_Cipher_Encode_and_decode.ipynb\" target=\"_parent\"><img src=\"https://colab.research.google.com/assets/colab-badge.svg\" alt=\"Open In Colab\"/></a>"
      ]
    },
    {
      "cell_type": "code",
      "execution_count": 3,
      "metadata": {
        "colab": {
          "base_uri": "https://localhost:8080/"
        },
        "id": "Df9vUPk9Q7TK",
        "outputId": "86ee5879-c75f-4c32-9d7d-a69ae531b64b"
      },
      "outputs": [
        {
          "output_type": "stream",
          "name": "stdout",
          "text": [
            "d3\n",
            "khoor\n",
            "hello\n"
          ]
        }
      ],
      "source": [
        "#凱薩密碼\n",
        "\n",
        "act = input() #輸入指令用的(d是解密，e是加密，後面的數字是金鑰)\n",
        "tex = input() #輸入要加密或是解密的文字\n",
        "\n",
        "act_type = act[0] #取出第一個字元，決定是否加密Or解密，這個 key 代表要偏移的位數，不是 ASCII 值。\n",
        "key = int(act[1:]) #act[1:] 表示從字串 act 的第二個字元開始，直到字串結束。\n",
        "ntxt = '' #這是創個一個變數的名稱，不是一個特別的函數，''這是一個空字串，用來存放加密/解密後的文字\n",
        "if act_type == 'd':\n",
        "  for c in tex: #會取出這段文字的每一個並且偏移ASCII值\n",
        "    nc = ord(c)-key #ord是把文字轉換成ASCII值，key則是偏移的數字\n",
        "    ntxt = ntxt + chr(nc) #把解密後的 ASCII 值轉回字元，並加到 ntxt\n",
        "\n",
        "elif act_type == 'e':\n",
        "  for c in tex:\n",
        "    nc = ord(c)+key\n",
        "    ntxt = ntxt + chr(nc)\n",
        "\n",
        "\n",
        "print(ntxt)\n",
        "\n",
        "\n"
      ]
    },
    {
      "cell_type": "code",
      "source": [
        "\n"
      ],
      "metadata": {
        "id": "WHk6vig4Rlyn"
      },
      "execution_count": null,
      "outputs": []
    }
  ]
}