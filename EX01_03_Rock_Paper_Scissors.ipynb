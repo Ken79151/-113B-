{
  "nbformat": 4,
  "nbformat_minor": 0,
  "metadata": {
    "colab": {
      "provenance": [],
      "authorship_tag": "ABX9TyPox3o9otUJgfYYVUhh2oPe",
      "include_colab_link": true
    },
    "kernelspec": {
      "name": "python3",
      "display_name": "Python 3"
    },
    "language_info": {
      "name": "python"
    }
  },
  "cells": [
    {
      "cell_type": "markdown",
      "metadata": {
        "id": "view-in-github",
        "colab_type": "text"
      },
      "source": [
        "<a href=\"https://colab.research.google.com/github/Ken79151/-113B-/blob/main/EX01_03_Rock_Paper_Scissors.ipynb\" target=\"_parent\"><img src=\"https://colab.research.google.com/assets/colab-badge.svg\" alt=\"Open In Colab\"/></a>"
      ]
    },
    {
      "cell_type": "code",
      "execution_count": 3,
      "metadata": {
        "id": "EvJZgT1IRnQW",
        "colab": {
          "base_uri": "https://localhost:8080/"
        },
        "outputId": "7d218342-a931-4edf-c32f-4d6f60b08c45"
      },
      "outputs": [
        {
          "output_type": "stream",
          "name": "stdout",
          "text": [
            "5\n",
            "2\n",
            "You Lose\n"
          ]
        }
      ],
      "source": [
        "import random\n",
        "\n",
        "\n",
        "ply = int (input())\n",
        "com = random.choice([0,2,5])\n",
        "\n",
        "print(com)\n",
        "\n",
        "if(ply == com):\n",
        "  print('Draw')\n",
        "elif(ply ==0 and com == 2) or (ply ==2 and com == 5) or (ply ==5 and com == 0):\n",
        "  print('You Win')\n",
        "else:\n",
        "  print('You Lose')\n",
        "\n",
        "\n"
      ]
    }
  ]
}