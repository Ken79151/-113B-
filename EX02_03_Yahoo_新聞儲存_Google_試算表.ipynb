{
  "nbformat": 4,
  "nbformat_minor": 0,
  "metadata": {
    "colab": {
      "provenance": [],
      "authorship_tag": "ABX9TyPVVJaqP00wHAsjfyPw+sqd",
      "include_colab_link": true
    },
    "kernelspec": {
      "name": "python3",
      "display_name": "Python 3"
    },
    "language_info": {
      "name": "python"
    }
  },
  "cells": [
    {
      "cell_type": "markdown",
      "metadata": {
        "id": "view-in-github",
        "colab_type": "text"
      },
      "source": [
        "<a href=\"https://colab.research.google.com/github/Ken79151/-113B-/blob/main/EX02_03_Yahoo_%E6%96%B0%E8%81%9E%E5%84%B2%E5%AD%98_Google_%E8%A9%A6%E7%AE%97%E8%A1%A8.ipynb\" target=\"_parent\"><img src=\"https://colab.research.google.com/assets/colab-badge.svg\" alt=\"Open In Colab\"/></a>"
      ]
    },
    {
      "cell_type": "code",
      "execution_count": 6,
      "metadata": {
        "id": "FdShsMRYdmHt"
      },
      "outputs": [],
      "source": [
        "# 安裝所需套件\n",
        "!pip install feedparser -q\n",
        "\n",
        "\n"
      ]
    },
    {
      "cell_type": "code",
      "source": [
        "# 匯入模組\n",
        "import feedparser\n",
        "# 解析 RSS 資料\n",
        "feed_url = \"https://tw.news.yahoo.com/rss\"\n",
        "feed_data = feedparser.parse(feed_url)"
      ],
      "metadata": {
        "id": "OOdR8X9Yd8lW"
      },
      "execution_count": 7,
      "outputs": []
    },
    {
      "cell_type": "code",
      "source": [
        "from google.colab import auth\n",
        "from google.auth import default\n",
        "import gspread\n",
        "\n",
        "# Google Colab 驗證授權\n",
        "auth.authenticate_user()  # 跳出授權視窗\n",
        "creds, _ = default()\n",
        "gc = gspread.authorize(creds)"
      ],
      "metadata": {
        "id": "l7dQZzaGd_py"
      },
      "execution_count": 11,
      "outputs": []
    },
    {
      "cell_type": "code",
      "source": [
        "\n",
        "# 開啟試算表\n",
        "url = 'https://docs.google.com/spreadsheets/d/1j_fXilLLP26_sYZjoAKD8VEQ4fdGnltYvKj7hL8Gy38/edit?gid=0#gid=0'\n",
        "workbook = gc.open_by_url(url)\n",
        "sheet = workbook.get_worksheet(0)\n",
        "\n",
        "# 清空工作表\n",
        "sheet.clear()\n",
        "\n",
        "# 新增標題列\n",
        "sheet.append_row(['title', 'summary', 'link'])\n",
        "\n",
        "# 準備資料\n",
        "sheet.append_row([ 'title', 'summary' , 'link' ])\n",
        "for entry in feed_data.entries:\n",
        "  sheet.append_row([ entry.title, entry.summary, entry.link ])\n"
      ],
      "metadata": {
        "id": "St4BeRG-eNAR"
      },
      "execution_count": 15,
      "outputs": []
    }
  ]
}