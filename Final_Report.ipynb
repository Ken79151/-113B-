{
  "nbformat": 4,
  "nbformat_minor": 0,
  "metadata": {
    "colab": {
      "provenance": [],
      "authorship_tag": "ABX9TyNzmQ4AKoTWvRSDfNWekVTU",
      "include_colab_link": true
    },
    "kernelspec": {
      "name": "python3",
      "display_name": "Python 3"
    },
    "language_info": {
      "name": "python"
    }
  },
  "cells": [
    {
      "cell_type": "markdown",
      "metadata": {
        "id": "view-in-github",
        "colab_type": "text"
      },
      "source": [
        "<a href=\"https://colab.research.google.com/github/Ken79151/-113B-/blob/main/Final_Report.ipynb\" target=\"_parent\"><img src=\"https://colab.research.google.com/assets/colab-badge.svg\" alt=\"Open In Colab\"/></a>"
      ]
    },
    {
      "cell_type": "code",
      "execution_count": 1,
      "metadata": {
        "id": "1UMbmVq7hrUS"
      },
      "outputs": [],
      "source": [
        "pip install -q gradio"
      ]
    },
    {
      "cell_type": "code",
      "source": [
        "import gradio as gr\n",
        "from google import genai\n",
        "from google.colab import userdata\n",
        "\n",
        "api_key = userdata.get('GOOGLE_API_KEY')\n",
        "client = genai.Client(api_key=api_key)\n",
        "\n",
        "text = \"\"\"\n",
        "彩虹是大氣光學中最美麗且最吸引人的自然現象之一。它通常出現在雨後，太陽照射到空中懸浮的水滴時形成。彩虹的產生，牽涉到光的折射、反射與色散等物理原理，以及大氣中的環境條件。\n",
        "\n",
        "首先，我們來理解光線如何與水滴互動。當太陽光照射到空中的水滴時，光線會穿過水滴的表面，由於空氣與水的折射率不同，光線進入水滴時會發生折射，方向改變。接著，光線在水滴內部與水滴後表面發生全反射，反射回水滴的前端。最後，光線從水滴射出時，因為折射率的變化，再次折射出水滴。\n",
        "\n",
        "值得注意的是，白光並非單一波長的光，而是包含了從紅光到紫光等多種不同波長的可見光。當光線經過水滴時，由於不同波長的光在水中折射率略有差異，造成不同波長的光折射角度不同，這種現象稱為色散。波長較長的紅光折射角度較小，波長較短的紫光折射角度較大。這就是為什麼我們看到的彩虹會呈現紅、橙、黃、綠、藍、靛、紫七色漸變的原因。\n",
        "\n",
        "此外，彩虹呈現出弧形的形狀，也是由於光線折射和反射的角度關係決定的。當觀察者面向太陽，背對雨滴時，光線以大約42度的角度從水滴射向觀察者眼睛，這個固定的角度範圍使彩虹形成一個圓形的弧線。若觀察者位於飛機或高處，有機會看到完整的彩虹圓環。\n",
        "\n",
        "彩虹的亮度和顏色的鮮艷度也會受到多重因素的影響。雨滴的大小是其中一個重要因素，大型水滴能產生更明亮、顏色分明的彩虹，而小型雨滴則會使彩虹顏色較模糊且亮度降低。此外，環境光線的強弱、空氣中的懸浮粒子以及觀察角度等都會影響彩虹的觀察效果。\n",
        "\n",
        "值得一提的是，除了主虹之外，有時我們還能看到次虹（副虹），位於主虹外側且顏色順序相反。這是因為光線在水滴內部反射兩次形成的現象，導致光線的路徑更長，顏色排列也因此反轉。\n",
        "\n",
        "彩虹不只是美麗的自然景象，更是光學科學的寶貴教材。它讓我們真切感受到光的折射、反射與色散現象，這些原理在現代光學技術、攝影、光纖通訊等領域均有廣泛應用。\n",
        "\n",
        "因此，下次當你在雨後抬頭看到那道絢麗的彩虹時，不妨想想它背後的科學故事，想像那些看不見的光線如何在無數水滴中跳舞，為天空繪出這幅動人的光影畫卷。\n",
        "\"\"\"\n",
        "\n",
        "\n",
        "\n",
        "prompt = f'''\n",
        "你是一位高中老師，正在一對一教學生閱讀理解。請用輕鬆尊重的語氣跟學生互動。你會用很多問題引導學生思考，從文章的主要人物、地點和事件開始，幫助學生抓住故事大意。然後慢慢讓學生注意細節，理解原因和結果。當學生回答後，如果不完全，你會耐心引導他們，再用不同的問題幫助他們想清楚。你還會鼓勵學生把文章內容跟自己的生活經驗連結。最後，你會請學生用自己的話總結文章，確保他們真正懂了。\n",
        "\n",
        "記得，不要直接給答案，多用提問讓學生自己找到重點。\n",
        "\n",
        "這是你要教的文章：\n",
        "{text}\n",
        "'''\n",
        "\n",
        "# 初始化 chat 並回傳開場訊息\n",
        "def init_chat():\n",
        "    chat = client.chats.create(model=\"gemini-2.0-flash\")\n",
        "    init_response = chat.send_message(prompt)\n",
        "    return chat, [{\"role\": \"assistant\", \"content\": init_response.text}]\n",
        "\n",
        "# 回應訊息的邏輯\n",
        "def respond(message, history, chat):\n",
        "    response = chat.send_message(message)\n",
        "    history.append({\"role\": \"user\", \"content\": message})\n",
        "    history.append({\"role\": \"assistant\", \"content\": response.text})\n",
        "    return history, chat, \"\"\n",
        "\n",
        "with gr.Blocks() as app:\n",
        "    state = gr.State()  # 儲存 chat 對象\n",
        "    with gr.Row():\n",
        "        with gr.Column(scale=1):  # 左側：文章\n",
        "            gr.Markdown(\"## 文章內容\")\n",
        "            gr.Markdown(text)\n",
        "        with gr.Column(scale=2):  # 右側：對話介面\n",
        "            chatbot = gr.Chatbot(label=\"科學閱讀機器人\",type=\"messages\")\n",
        "            msg = gr.Textbox(label=\"輸入你的回覆\")\n",
        "\n",
        "    def start():\n",
        "        chat, init_messages = init_chat()\n",
        "        return chat, init_messages\n",
        "\n",
        "    # 初始化\n",
        "    app.load(start, outputs=[state, chatbot])\n",
        "\n",
        "    # 傳送訊息\n",
        "    msg.submit(fn=respond, inputs=[msg, chatbot, state], outputs=[chatbot, state, msg])\n",
        "\n",
        "app.launch()"
      ],
      "metadata": {
        "colab": {
          "base_uri": "https://localhost:8080/",
          "height": 626
        },
        "id": "OI7oBUgmhxWq",
        "outputId": "12e358da-6dae-47f9-c2c7-2a9e8997e8d5"
      },
      "execution_count": 4,
      "outputs": [
        {
          "output_type": "stream",
          "name": "stdout",
          "text": [
            "It looks like you are running Gradio on a hosted a Jupyter notebook. For the Gradio app to work, sharing must be enabled. Automatically setting `share=True` (you can turn this off by setting `share=False` in `launch()` explicitly).\n",
            "\n",
            "Colab notebook detected. To show errors in colab notebook, set debug=True in launch()\n",
            "* Running on public URL: https://9f3ebb349002d46a41.gradio.live\n",
            "\n",
            "This share link expires in 1 week. For free permanent hosting and GPU upgrades, run `gradio deploy` from the terminal in the working directory to deploy to Hugging Face Spaces (https://huggingface.co/spaces)\n"
          ]
        },
        {
          "output_type": "display_data",
          "data": {
            "text/plain": [
              "<IPython.core.display.HTML object>"
            ],
            "text/html": [
              "<div><iframe src=\"https://9f3ebb349002d46a41.gradio.live\" width=\"100%\" height=\"500\" allow=\"autoplay; camera; microphone; clipboard-read; clipboard-write;\" frameborder=\"0\" allowfullscreen></iframe></div>"
            ]
          },
          "metadata": {}
        },
        {
          "output_type": "execute_result",
          "data": {
            "text/plain": []
          },
          "metadata": {},
          "execution_count": 4
        }
      ]
    }
  ]
}