{
  "nbformat": 4,
  "nbformat_minor": 0,
  "metadata": {
    "colab": {
      "provenance": [],
      "authorship_tag": "ABX9TyNyLKq9CeFGA8gQodkOdXgB",
      "include_colab_link": true
    },
    "kernelspec": {
      "name": "python3",
      "display_name": "Python 3"
    },
    "language_info": {
      "name": "python"
    }
  },
  "cells": [
    {
      "cell_type": "markdown",
      "metadata": {
        "id": "view-in-github",
        "colab_type": "text"
      },
      "source": [
        "<a href=\"https://colab.research.google.com/github/Ken79151/-113B-/blob/main/EX02_01_My_Chatbot.ipynb\" target=\"_parent\"><img src=\"https://colab.research.google.com/assets/colab-badge.svg\" alt=\"Open In Colab\"/></a>"
      ]
    },
    {
      "cell_type": "code",
      "source": [
        "# 1. 導入必要的套件\n",
        "from google.colab import userdata\n",
        "import google.generativeai as genai\n",
        "from IPython.display import Markdown, display\n",
        "# 2. 設定 API 金鑰\n",
        "genai.configure(api_key=userdata.get('GOOGLE_API_KEY'))"
      ],
      "metadata": {
        "id": "wQELcJdLcZj5"
      },
      "execution_count": 4,
      "outputs": []
    },
    {
      "cell_type": "code",
      "source": [
        "# 3. 設定生成模型的參數\n",
        "generation_config = {\n",
        "    \"temperature\": 1,\n",
        "    \"max_output_tokens\": 1280\n",
        "}\n",
        "\n",
        "# 4. 初始化模型\n",
        "model = genai.GenerativeModel(\n",
        "    model_name=\"gemini-2.0-flash\",\n",
        "    generation_config=generation_config\n",
        ")"
      ],
      "metadata": {
        "id": "wJluwdWHcqiT"
      },
      "execution_count": 5,
      "outputs": []
    },
    {
      "cell_type": "code",
      "source": [
        "\n",
        "# 5. 開啟聊天介面\n",
        "chat = model.start_chat(history=[])\n",
        "\n",
        "# 6. 建立對話迴圈\n",
        "while True:\n",
        "    message = input('You: ')\n",
        "    if message.lower() == 'bye!':\n",
        "        print(\"Bot: 再見！\")\n",
        "        break\n",
        "    response = chat.send_message(message)\n",
        "    print('Bot:')\n",
        "    display(Markdown(response.text))"
      ],
      "metadata": {
        "colab": {
          "base_uri": "https://localhost:8080/",
          "height": 185
        },
        "id": "lqWT2GCCc1bI",
        "outputId": "ab62dd15-d336-45c1-da49-41ade873ac09"
      },
      "execution_count": 7,
      "outputs": [
        {
          "output_type": "stream",
          "name": "stdout",
          "text": [
            "You: bye\n",
            "Bot:\n"
          ]
        },
        {
          "output_type": "display_data",
          "data": {
            "text/plain": [
              "<IPython.core.display.Markdown object>"
            ],
            "text/markdown": "Goodbye! If you need anything in the future, just ask. Have a great day!\n"
          },
          "metadata": {}
        },
        {
          "output_type": "stream",
          "name": "stdout",
          "text": [
            "You: bye\n",
            "Bot:\n"
          ]
        },
        {
          "output_type": "display_data",
          "data": {
            "text/plain": [
              "<IPython.core.display.Markdown object>"
            ],
            "text/markdown": "Take care!\n"
          },
          "metadata": {}
        },
        {
          "output_type": "stream",
          "name": "stdout",
          "text": [
            "You: bye!\n",
            "Bot: 再見！\n"
          ]
        }
      ]
    }
  ]
}