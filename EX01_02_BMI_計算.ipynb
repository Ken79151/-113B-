{
  "nbformat": 4,
  "nbformat_minor": 0,
  "metadata": {
    "colab": {
      "provenance": [],
      "authorship_tag": "ABX9TyOtzAw1l6AGnhpY/S5JIO2f",
      "include_colab_link": true
    },
    "kernelspec": {
      "name": "python3",
      "display_name": "Python 3"
    },
    "language_info": {
      "name": "python"
    }
  },
  "cells": [
    {
      "cell_type": "markdown",
      "metadata": {
        "id": "view-in-github",
        "colab_type": "text"
      },
      "source": [
        "<a href=\"https://colab.research.google.com/github/Ken79151/-113B-/blob/main/EX01_02_BMI_%E8%A8%88%E7%AE%97.ipynb\" target=\"_parent\"><img src=\"https://colab.research.google.com/assets/colab-badge.svg\" alt=\"Open In Colab\"/></a>"
      ]
    },
    {
      "cell_type": "code",
      "execution_count": 1,
      "metadata": {
        "colab": {
          "base_uri": "https://localhost:8080/"
        },
        "id": "vBRI4rpoK29L",
        "outputId": "47b2966e-cd2d-42dd-fda9-c1e6dd4a2819"
      },
      "outputs": [
        {
          "output_type": "stream",
          "name": "stdout",
          "text": [
            "請輸入身高(cm)163\n",
            "請輸入體重(kg)59\n",
            "你的BMI為:\" 22.2\n",
            "體重正常\n"
          ]
        }
      ],
      "source": [
        "# bmi計算機\n",
        "\n",
        "height = int (input('請輸入身高(cm)'))\n",
        "weight = int (input('請輸入體重(kg)'))\n",
        "\n",
        "BMI= weight/(height/100)**2\n",
        "\n",
        "print ('你的BMI為:\"',round(BMI,1))\n",
        "\n",
        "if BMI < 18.5:\n",
        "    print ('體重過輕')\n",
        "elif BMI < 24:\n",
        "    print ('體重正常')\n",
        "elif BMI < 27:\n",
        "    print ('體重過重')\n",
        "\n"
      ]
    }
  ]
}