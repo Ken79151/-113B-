{
  "nbformat": 4,
  "nbformat_minor": 0,
  "metadata": {
    "colab": {
      "provenance": [],
      "toc_visible": true,
      "authorship_tag": "ABX9TyN+afAEF9iXfHDZsJjGJTO4",
      "include_colab_link": true
    },
    "kernelspec": {
      "name": "python3",
      "display_name": "Python 3"
    },
    "language_info": {
      "name": "python"
    }
  },
  "cells": [
    {
      "cell_type": "markdown",
      "metadata": {
        "id": "view-in-github",
        "colab_type": "text"
      },
      "source": [
        "<a href=\"https://colab.research.google.com/github/Ken79151/-113B-/blob/main/EX01_04_%E7%B5%82%E6%A5%B5%E5%AF%86%E7%A2%BC.ipynb\" target=\"_parent\"><img src=\"https://colab.research.google.com/assets/colab-badge.svg\" alt=\"Open In Colab\"/></a>"
      ]
    },
    {
      "cell_type": "code",
      "execution_count": null,
      "metadata": {
        "id": "ZaEDxUuH7AfI",
        "collapsed": true
      },
      "outputs": [],
      "source": [
        "#終極密碼程式\n",
        "import random\n",
        "bomb= random.randint(1,99)\n",
        "\n",
        "lf=0\n",
        "rt=100\n",
        "\n",
        "while True:\n",
        "  print('範圍為',lf,'-',rt)\n",
        "  gu = int(input('猜猜看'))\n",
        "  if gu<=lf or gu>=rt:\n",
        "    print('超過範圍')\n",
        "  elif gu>lf and gu<bomb:\n",
        "    lf=gu\n",
        "  elif gu>bomb and gu<rt:\n",
        "    rt=gu\n",
        "  else:\n",
        "    print('恭喜你猜中了')\n",
        "    break"
      ]
    }
  ]
}