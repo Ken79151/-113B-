{
  "nbformat": 4,
  "nbformat_minor": 0,
  "metadata": {
    "colab": {
      "provenance": [],
      "authorship_tag": "ABX9TyPHZVQVytKVxEmB5JHGDWgR",
      "include_colab_link": true
    },
    "kernelspec": {
      "name": "python3",
      "display_name": "Python 3"
    },
    "language_info": {
      "name": "python"
    }
  },
  "cells": [
    {
      "cell_type": "markdown",
      "metadata": {
        "id": "view-in-github",
        "colab_type": "text"
      },
      "source": [
        "<a href=\"https://colab.research.google.com/github/Ken79151/-113B-/blob/main/EX01_04_%E7%B5%82%E6%A5%B5%E5%AF%86%E7%A2%BC.ipynb\" target=\"_parent\"><img src=\"https://colab.research.google.com/assets/colab-badge.svg\" alt=\"Open In Colab\"/></a>"
      ]
    },
    {
      "cell_type": "code",
      "execution_count": 1,
      "metadata": {
        "colab": {
          "base_uri": "https://localhost:8080/"
        },
        "id": "ZaEDxUuH7AfI",
        "outputId": "6c6d33da-4ae2-4123-d94f-621cecbb9db7"
      },
      "outputs": [
        {
          "output_type": "stream",
          "name": "stdout",
          "text": [
            "範圍為 0 - 100\n",
            "猜猜看50\n",
            "範圍為 0 - 50\n",
            "猜猜看40\n",
            "範圍為 0 - 40\n",
            "猜猜看30\n",
            "範圍為 30 - 40\n",
            "猜猜看35\n",
            "範圍為 35 - 40\n",
            "猜猜看34\n",
            "超過範圍\n",
            "範圍為 35 - 40\n",
            "猜猜看36\n",
            "恭喜你猜中了\n"
          ]
        }
      ],
      "source": [
        "import random\n",
        "bomb= random.randint(1,99)\n",
        "\n",
        "lf=0\n",
        "rt=100\n",
        "\n",
        "while True:\n",
        "  print('範圍為',lf,'-',rt)\n",
        "  gu = int(input('猜猜看'))\n",
        "  if gu<=lf or gu>=rt:\n",
        "    print('超過範圍')\n",
        "  elif gu>lf and gu<bomb:\n",
        "    lf=gu\n",
        "  elif gu>bomb and gu<rt:\n",
        "    rt=gu\n",
        "  else:\n",
        "    print('恭喜你猜中了')\n",
        "    break"
      ]
    }
  ]
}