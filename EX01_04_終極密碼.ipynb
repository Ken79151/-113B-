import random
bomb= random.randint(1,99)

lf=0
rt=100

while True:
  print('範圍為',lf,'-',rt)
  gu = int(input('猜猜看'))
  if gu<=lf or gu>=rt:
    print('超過範圍')
  elif gu>lf and gu<bomb:
    lf=gu
  elif gu>bomb and gu<rt:
    rt=gu
  else:
    print('恭喜你猜中了')
    break
