{
  "nbformat": 4,
  "nbformat_minor": 0,
  "metadata": {
    "colab": {
      "provenance": [],
      "authorship_tag": "ABX9TyOeSg/jHz17ixv6WbnIGqcg",
      "include_colab_link": true
    },
    "kernelspec": {
      "name": "python3",
      "display_name": "Python 3"
    },
    "language_info": {
      "name": "python"
    }
  },
  "cells": [
    {
      "cell_type": "markdown",
      "metadata": {
        "id": "view-in-github",
        "colab_type": "text"
      },
      "source": [
        "<a href=\"https://colab.research.google.com/github/Ken79151/-113B-/blob/main/EX01_01_%E5%8A%A0%E6%B3%95%E5%99%A8.ipynb\" target=\"_parent\"><img src=\"https://colab.research.google.com/assets/colab-badge.svg\" alt=\"Open In Colab\"/></a>"
      ]
    },
    {
      "cell_type": "code",
      "execution_count": 2,
      "metadata": {
        "colab": {
          "base_uri": "https://localhost:8080/"
        },
        "id": "oDOpCWxtERPb",
        "outputId": "3f900b74-fb3c-40fb-963e-5a8c71172ba3"
      },
      "outputs": [
        {
          "output_type": "stream",
          "name": "stdout",
          "text": [
            "請輸入第一個數字12\n",
            "請輸入第二個數字32\n",
            "兩數相加結果為 44\n"
          ]
        }
      ],
      "source": [
        "# EX01-01 加法器\n",
        "\n",
        "number1 = int(input('請輸入第一個數字'))\n",
        "number2 = int(input('請輸入第二個數字'))\n",
        "\n",
        "print('兩數相加結果為',number1+number2)\n",
        "\n",
        "\n",
        "\n"
      ]
    }
  ]
}