{
  "nbformat": 4,
  "nbformat_minor": 0,
  "metadata": {
    "colab": {
      "provenance": [],
      "authorship_tag": "ABX9TyMIYDngFC99t88EObXA0aYG",
      "include_colab_link": true
    },
    "kernelspec": {
      "name": "python3",
      "display_name": "Python 3"
    },
    "language_info": {
      "name": "python"
    }
  },
  "cells": [
    {
      "cell_type": "markdown",
      "metadata": {
        "id": "view-in-github",
        "colab_type": "text"
      },
      "source": [
        "<a href=\"https://colab.research.google.com/github/Ken79151/-113B-/blob/main/EX01_06_%E7%B0%A1%E6%98%93%E8%B3%BC%E7%89%A9%E8%BB%8A.ipynb\" target=\"_parent\"><img src=\"https://colab.research.google.com/assets/colab-badge.svg\" alt=\"Open In Colab\"/></a>"
      ]
    },
    {
      "cell_type": "code",
      "execution_count": 2,
      "metadata": {
        "colab": {
          "base_uri": "https://localhost:8080/"
        },
        "id": "sca2urPaFqoI",
        "outputId": "ada7a53c-02fd-4e8e-e36e-cad43828cb0d"
      },
      "outputs": [
        {
          "output_type": "stream",
          "name": "stdout",
          "text": [
            "商品欄:  apple/25, banana/12, cherry/30\n",
            "購物車:  apple\n",
            "功能列:  1.新增商品 2.移除商品 3.結帳 4.離開\n",
            "3\n",
            "結帳金額:  25\n"
          ]
        }
      ],
      "source": [
        "#簡易購物車\n",
        "from IPython.display import clear_output\n",
        "shopping_cart = [] #串列有順序姓，可以更改內容(存放購物車內的商品)\n",
        "products = {\"apple\":25,\"banana\":12,\"cherry\":30} #字典(dict)無順序姓，可以更改內容(商品與價格對應的字典)\n",
        "while True: #這是一個 無限迴圈，直到使用者選擇**結帳（3）或離開（4）**才會結束。\n",
        "  clear_output()\n",
        "  print('商品欄: ',', '.join([f'{pd}/{pr}'for pd , pr in products.items()]))\n",
        "  #products.items() 會回傳商品名稱 & 價格的 dict_items：\n",
        "  #for pd, pr in products.items() 把 products 字典裡的商品名稱 pd 和價格 pr 分開來。\n",
        "  #', '.join([...]) 會把 list 轉為字串\n",
        "  print('購物車: ',', '.join(shopping_cart))\n",
        "  #separator：用來連接元素的字串（如 ', ' 代表逗號加空格）。\n",
        "  print('功能列: ','1.新增商品 2.移除商品 3.結帳 4.離開')\n",
        "  act = input()\n",
        "  if act[0]=='1':\n",
        "    shopping_cart.append(act[1:]) # 將 act 字串從索引 1 之後的部分（即商品名稱）加入 shopping_cart 清單。\n",
        "    #list_name.append(元素)\n",
        "    #list_name 是你的 串列名稱\n",
        "    #元素 是你想加入列表的值\n",
        "  elif act[0]== '2':\n",
        "    shopping_cart.remove(act[1:])\n",
        "    #shopping_cart.remove()函數:這會從shopping_cart列表中移除指定名稱的商品。例如，shopping_cart.remove(\"apple\") 會把 \"apple\" 從購物車中移除。\n",
        "  elif act[0]== '3':\n",
        "    tt = 0\n",
        "    for pd in shopping_cart:\n",
        "      tt += products[pd]\n",
        "      #tt += products[pd]：對於每個商品名稱 pd，從products字典中取出該商品的價格，然後將價格加到tt變數上。products[pd]是根據商品名稱pd從字典中獲得該商品的對應價格。例如，如果pd是'apple'那麼products['apple']就會返回該商品的價格，並加到 tt 中。\n",
        "    print('結帳金額: ',tt)\n",
        "    break\n",
        "  else:\n",
        "    print('bye')\n",
        "    break"
      ]
    }
  ]
}